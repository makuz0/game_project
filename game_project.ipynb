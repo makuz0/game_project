{
 "cells": [
  {
   "cell_type": "code",
   "execution_count": 113,
   "metadata": {},
   "outputs": [],
   "source": [
    "import numpy as np\n",
    "import pandas as pd\n",
    "from scipy.stats import norm\n",
    "import matplotlib.pyplot as plt\n",
    "import scipy.stats as stats\n",
    "from tqdm.auto import tqdm\n",
    "import seaborn as sns\n",
    "plt.style.use('ggplot')\n",
    "import datetime"
   ]
  },
  {
   "cell_type": "markdown",
   "metadata": {},
   "source": [
    "# Задание №1"
   ]
  },
  {
   "cell_type": "code",
   "execution_count": 64,
   "metadata": {},
   "outputs": [],
   "source": [
    "reg_data = pd.read_csv('/mnt/HC_Volume_18315164/home-jupyter/jupyter-m-kuzmin/shared/problem1-reg_data.csv', sep=';')"
   ]
  },
  {
   "cell_type": "code",
   "execution_count": 65,
   "metadata": {},
   "outputs": [
    {
     "data": {
      "text/html": [
       "<div>\n",
       "<style scoped>\n",
       "    .dataframe tbody tr th:only-of-type {\n",
       "        vertical-align: middle;\n",
       "    }\n",
       "\n",
       "    .dataframe tbody tr th {\n",
       "        vertical-align: top;\n",
       "    }\n",
       "\n",
       "    .dataframe thead th {\n",
       "        text-align: right;\n",
       "    }\n",
       "</style>\n",
       "<table border=\"1\" class=\"dataframe\">\n",
       "  <thead>\n",
       "    <tr style=\"text-align: right;\">\n",
       "      <th></th>\n",
       "      <th>reg_ts</th>\n",
       "      <th>uid</th>\n",
       "    </tr>\n",
       "  </thead>\n",
       "  <tbody>\n",
       "    <tr>\n",
       "      <th>0</th>\n",
       "      <td>911382223</td>\n",
       "      <td>1</td>\n",
       "    </tr>\n",
       "    <tr>\n",
       "      <th>1</th>\n",
       "      <td>932683089</td>\n",
       "      <td>2</td>\n",
       "    </tr>\n",
       "  </tbody>\n",
       "</table>\n",
       "</div>"
      ],
      "text/plain": [
       "      reg_ts  uid\n",
       "0  911382223    1\n",
       "1  932683089    2"
      ]
     },
     "execution_count": 65,
     "metadata": {},
     "output_type": "execute_result"
    }
   ],
   "source": [
    "reg_data.head(2)"
   ]
  },
  {
   "cell_type": "code",
   "execution_count": 66,
   "metadata": {},
   "outputs": [],
   "source": [
    "auth_data = pd.read_csv('/mnt/HC_Volume_18315164/home-jupyter/jupyter-m-kuzmin/shared/problem1-auth_data.csv', sep=';')"
   ]
  },
  {
   "cell_type": "code",
   "execution_count": 67,
   "metadata": {},
   "outputs": [
    {
     "data": {
      "text/html": [
       "<div>\n",
       "<style scoped>\n",
       "    .dataframe tbody tr th:only-of-type {\n",
       "        vertical-align: middle;\n",
       "    }\n",
       "\n",
       "    .dataframe tbody tr th {\n",
       "        vertical-align: top;\n",
       "    }\n",
       "\n",
       "    .dataframe thead th {\n",
       "        text-align: right;\n",
       "    }\n",
       "</style>\n",
       "<table border=\"1\" class=\"dataframe\">\n",
       "  <thead>\n",
       "    <tr style=\"text-align: right;\">\n",
       "      <th></th>\n",
       "      <th>auth_ts</th>\n",
       "      <th>uid</th>\n",
       "    </tr>\n",
       "  </thead>\n",
       "  <tbody>\n",
       "    <tr>\n",
       "      <th>0</th>\n",
       "      <td>911382223</td>\n",
       "      <td>1</td>\n",
       "    </tr>\n",
       "    <tr>\n",
       "      <th>1</th>\n",
       "      <td>932683089</td>\n",
       "      <td>2</td>\n",
       "    </tr>\n",
       "  </tbody>\n",
       "</table>\n",
       "</div>"
      ],
      "text/plain": [
       "     auth_ts  uid\n",
       "0  911382223    1\n",
       "1  932683089    2"
      ]
     },
     "execution_count": 67,
     "metadata": {},
     "output_type": "execute_result"
    }
   ],
   "source": [
    "auth_data.head(2)"
   ]
  },
  {
   "cell_type": "markdown",
   "metadata": {},
   "source": [
    "Переводим формат даты из UnixTime в классический "
   ]
  },
  {
   "cell_type": "code",
   "execution_count": 68,
   "metadata": {},
   "outputs": [],
   "source": [
    "def unix_to_time_reg_data(reg_ts):\n",
    "    return datetime.datetime.fromtimestamp(reg_ts)\n",
    "reg_data['reg_ts'] = reg_data['reg_ts'].apply(unix_to_time_reg_data)"
   ]
  },
  {
   "cell_type": "code",
   "execution_count": 69,
   "metadata": {},
   "outputs": [
    {
     "data": {
      "text/html": [
       "<div>\n",
       "<style scoped>\n",
       "    .dataframe tbody tr th:only-of-type {\n",
       "        vertical-align: middle;\n",
       "    }\n",
       "\n",
       "    .dataframe tbody tr th {\n",
       "        vertical-align: top;\n",
       "    }\n",
       "\n",
       "    .dataframe thead th {\n",
       "        text-align: right;\n",
       "    }\n",
       "</style>\n",
       "<table border=\"1\" class=\"dataframe\">\n",
       "  <thead>\n",
       "    <tr style=\"text-align: right;\">\n",
       "      <th></th>\n",
       "      <th>reg_ts</th>\n",
       "      <th>uid</th>\n",
       "    </tr>\n",
       "  </thead>\n",
       "  <tbody>\n",
       "    <tr>\n",
       "      <th>0</th>\n",
       "      <td>1998-11-18 12:43:43</td>\n",
       "      <td>1</td>\n",
       "    </tr>\n",
       "    <tr>\n",
       "      <th>1</th>\n",
       "      <td>1999-07-23 02:38:09</td>\n",
       "      <td>2</td>\n",
       "    </tr>\n",
       "  </tbody>\n",
       "</table>\n",
       "</div>"
      ],
      "text/plain": [
       "               reg_ts  uid\n",
       "0 1998-11-18 12:43:43    1\n",
       "1 1999-07-23 02:38:09    2"
      ]
     },
     "execution_count": 69,
     "metadata": {},
     "output_type": "execute_result"
    }
   ],
   "source": [
    "reg_data.head(2)"
   ]
  },
  {
   "cell_type": "code",
   "execution_count": 70,
   "metadata": {},
   "outputs": [],
   "source": [
    "def unix_to_time_auth_data(auth_ts):\n",
    "    return datetime.datetime.fromtimestamp(auth_ts)\n",
    "auth_data['auth_ts'] = auth_data['auth_ts'].apply(unix_to_time_auth_data)"
   ]
  },
  {
   "cell_type": "code",
   "execution_count": 71,
   "metadata": {},
   "outputs": [
    {
     "data": {
      "text/html": [
       "<div>\n",
       "<style scoped>\n",
       "    .dataframe tbody tr th:only-of-type {\n",
       "        vertical-align: middle;\n",
       "    }\n",
       "\n",
       "    .dataframe tbody tr th {\n",
       "        vertical-align: top;\n",
       "    }\n",
       "\n",
       "    .dataframe thead th {\n",
       "        text-align: right;\n",
       "    }\n",
       "</style>\n",
       "<table border=\"1\" class=\"dataframe\">\n",
       "  <thead>\n",
       "    <tr style=\"text-align: right;\">\n",
       "      <th></th>\n",
       "      <th>auth_ts</th>\n",
       "      <th>uid</th>\n",
       "    </tr>\n",
       "  </thead>\n",
       "  <tbody>\n",
       "    <tr>\n",
       "      <th>0</th>\n",
       "      <td>1998-11-18 12:43:43</td>\n",
       "      <td>1</td>\n",
       "    </tr>\n",
       "    <tr>\n",
       "      <th>1</th>\n",
       "      <td>1999-07-23 02:38:09</td>\n",
       "      <td>2</td>\n",
       "    </tr>\n",
       "  </tbody>\n",
       "</table>\n",
       "</div>"
      ],
      "text/plain": [
       "              auth_ts  uid\n",
       "0 1998-11-18 12:43:43    1\n",
       "1 1999-07-23 02:38:09    2"
      ]
     },
     "execution_count": 71,
     "metadata": {},
     "output_type": "execute_result"
    }
   ],
   "source": [
    "auth_data.head(2)"
   ]
  },
  {
   "cell_type": "markdown",
   "metadata": {},
   "source": [
    "Объединяем reg_data с auth_data для удобства в работе"
   ]
  },
  {
   "cell_type": "code",
   "execution_count": 72,
   "metadata": {},
   "outputs": [],
   "source": [
    "data = pd.merge(reg_data, auth_data, on='uid')"
   ]
  },
  {
   "cell_type": "code",
   "execution_count": 73,
   "metadata": {},
   "outputs": [
    {
     "data": {
      "text/html": [
       "<div>\n",
       "<style scoped>\n",
       "    .dataframe tbody tr th:only-of-type {\n",
       "        vertical-align: middle;\n",
       "    }\n",
       "\n",
       "    .dataframe tbody tr th {\n",
       "        vertical-align: top;\n",
       "    }\n",
       "\n",
       "    .dataframe thead th {\n",
       "        text-align: right;\n",
       "    }\n",
       "</style>\n",
       "<table border=\"1\" class=\"dataframe\">\n",
       "  <thead>\n",
       "    <tr style=\"text-align: right;\">\n",
       "      <th></th>\n",
       "      <th>reg_ts</th>\n",
       "      <th>uid</th>\n",
       "      <th>auth_ts</th>\n",
       "    </tr>\n",
       "  </thead>\n",
       "  <tbody>\n",
       "    <tr>\n",
       "      <th>0</th>\n",
       "      <td>1998-11-18 12:43:43</td>\n",
       "      <td>1</td>\n",
       "      <td>1998-11-18 12:43:43</td>\n",
       "    </tr>\n",
       "    <tr>\n",
       "      <th>1</th>\n",
       "      <td>1999-07-23 02:38:09</td>\n",
       "      <td>2</td>\n",
       "      <td>1999-07-23 02:38:09</td>\n",
       "    </tr>\n",
       "  </tbody>\n",
       "</table>\n",
       "</div>"
      ],
      "text/plain": [
       "               reg_ts  uid             auth_ts\n",
       "0 1998-11-18 12:43:43    1 1998-11-18 12:43:43\n",
       "1 1999-07-23 02:38:09    2 1999-07-23 02:38:09"
      ]
     },
     "execution_count": 73,
     "metadata": {},
     "output_type": "execute_result"
    }
   ],
   "source": [
    "data.head(2)"
   ]
  },
  {
   "cell_type": "code",
   "execution_count": 74,
   "metadata": {},
   "outputs": [
    {
     "data": {
      "text/plain": [
       "reg_ts     datetime64[ns]\n",
       "uid                 int64\n",
       "auth_ts    datetime64[ns]\n",
       "dtype: object"
      ]
     },
     "execution_count": 74,
     "metadata": {},
     "output_type": "execute_result"
    }
   ],
   "source": [
    "data.dtypes"
   ]
  },
  {
   "cell_type": "code",
   "execution_count": 75,
   "metadata": {},
   "outputs": [],
   "source": [
    "w_data = data"
   ]
  },
  {
   "cell_type": "markdown",
   "metadata": {},
   "source": [
    "Убираем из даты время, для наших целей оно нам не нужно"
   ]
  },
  {
   "cell_type": "code",
   "execution_count": 76,
   "metadata": {},
   "outputs": [],
   "source": [
    "data['reg_ts'] = data['reg_ts'].dt.date\n",
    "data['auth_ts'] = data['auth_ts'].dt.date"
   ]
  },
  {
   "cell_type": "code",
   "execution_count": 77,
   "metadata": {},
   "outputs": [
    {
     "data": {
      "text/plain": [
       "reg_ts     object\n",
       "uid         int64\n",
       "auth_ts    object\n",
       "dtype: object"
      ]
     },
     "execution_count": 77,
     "metadata": {},
     "output_type": "execute_result"
    }
   ],
   "source": [
    "data.dtypes"
   ]
  },
  {
   "cell_type": "code",
   "execution_count": 78,
   "metadata": {},
   "outputs": [
    {
     "data": {
      "text/html": [
       "<div>\n",
       "<style scoped>\n",
       "    .dataframe tbody tr th:only-of-type {\n",
       "        vertical-align: middle;\n",
       "    }\n",
       "\n",
       "    .dataframe tbody tr th {\n",
       "        vertical-align: top;\n",
       "    }\n",
       "\n",
       "    .dataframe thead th {\n",
       "        text-align: right;\n",
       "    }\n",
       "</style>\n",
       "<table border=\"1\" class=\"dataframe\">\n",
       "  <thead>\n",
       "    <tr style=\"text-align: right;\">\n",
       "      <th></th>\n",
       "      <th>reg_ts</th>\n",
       "      <th>uid</th>\n",
       "      <th>auth_ts</th>\n",
       "    </tr>\n",
       "  </thead>\n",
       "  <tbody>\n",
       "    <tr>\n",
       "      <th>0</th>\n",
       "      <td>1998-11-18</td>\n",
       "      <td>1</td>\n",
       "      <td>1998-11-18</td>\n",
       "    </tr>\n",
       "    <tr>\n",
       "      <th>1</th>\n",
       "      <td>1999-07-23</td>\n",
       "      <td>2</td>\n",
       "      <td>1999-07-23</td>\n",
       "    </tr>\n",
       "  </tbody>\n",
       "</table>\n",
       "</div>"
      ],
      "text/plain": [
       "       reg_ts  uid     auth_ts\n",
       "0  1998-11-18    1  1998-11-18\n",
       "1  1999-07-23    2  1999-07-23"
      ]
     },
     "execution_count": 78,
     "metadata": {},
     "output_type": "execute_result"
    }
   ],
   "source": [
    "data.head(2)"
   ]
  },
  {
   "cell_type": "code",
   "execution_count": 79,
   "metadata": {},
   "outputs": [],
   "source": [
    "data['reg_ts'] = pd.to_datetime(data['reg_ts'])\n",
    "data['auth_ts'] = pd.to_datetime(data['auth_ts'])"
   ]
  },
  {
   "cell_type": "code",
   "execution_count": 80,
   "metadata": {},
   "outputs": [
    {
     "data": {
      "text/html": [
       "<div>\n",
       "<style scoped>\n",
       "    .dataframe tbody tr th:only-of-type {\n",
       "        vertical-align: middle;\n",
       "    }\n",
       "\n",
       "    .dataframe tbody tr th {\n",
       "        vertical-align: top;\n",
       "    }\n",
       "\n",
       "    .dataframe thead th {\n",
       "        text-align: right;\n",
       "    }\n",
       "</style>\n",
       "<table border=\"1\" class=\"dataframe\">\n",
       "  <thead>\n",
       "    <tr style=\"text-align: right;\">\n",
       "      <th></th>\n",
       "      <th>reg_ts</th>\n",
       "      <th>uid</th>\n",
       "      <th>auth_ts</th>\n",
       "    </tr>\n",
       "  </thead>\n",
       "  <tbody>\n",
       "    <tr>\n",
       "      <th>0</th>\n",
       "      <td>1998-11-18</td>\n",
       "      <td>1</td>\n",
       "      <td>1998-11-18</td>\n",
       "    </tr>\n",
       "    <tr>\n",
       "      <th>1</th>\n",
       "      <td>1999-07-23</td>\n",
       "      <td>2</td>\n",
       "      <td>1999-07-23</td>\n",
       "    </tr>\n",
       "    <tr>\n",
       "      <th>2</th>\n",
       "      <td>1999-07-23</td>\n",
       "      <td>2</td>\n",
       "      <td>1999-07-25</td>\n",
       "    </tr>\n",
       "  </tbody>\n",
       "</table>\n",
       "</div>"
      ],
      "text/plain": [
       "      reg_ts  uid    auth_ts\n",
       "0 1998-11-18    1 1998-11-18\n",
       "1 1999-07-23    2 1999-07-23\n",
       "2 1999-07-23    2 1999-07-25"
      ]
     },
     "execution_count": 80,
     "metadata": {},
     "output_type": "execute_result"
    }
   ],
   "source": [
    "data.head(3)"
   ]
  },
  {
   "cell_type": "markdown",
   "metadata": {},
   "source": [
    "Присваиваем дату регистрации каждому UID"
   ]
  },
  {
   "cell_type": "code",
   "execution_count": 81,
   "metadata": {},
   "outputs": [
    {
     "data": {
      "text/html": [
       "<div>\n",
       "<style scoped>\n",
       "    .dataframe tbody tr th:only-of-type {\n",
       "        vertical-align: middle;\n",
       "    }\n",
       "\n",
       "    .dataframe tbody tr th {\n",
       "        vertical-align: top;\n",
       "    }\n",
       "\n",
       "    .dataframe thead th {\n",
       "        text-align: right;\n",
       "    }\n",
       "</style>\n",
       "<table border=\"1\" class=\"dataframe\">\n",
       "  <thead>\n",
       "    <tr style=\"text-align: right;\">\n",
       "      <th></th>\n",
       "      <th>uid</th>\n",
       "      <th>reg_ts</th>\n",
       "    </tr>\n",
       "  </thead>\n",
       "  <tbody>\n",
       "    <tr>\n",
       "      <th>0</th>\n",
       "      <td>1</td>\n",
       "      <td>1998-11-18</td>\n",
       "    </tr>\n",
       "    <tr>\n",
       "      <th>1</th>\n",
       "      <td>2</td>\n",
       "      <td>1999-07-23</td>\n",
       "    </tr>\n",
       "  </tbody>\n",
       "</table>\n",
       "</div>"
      ],
      "text/plain": [
       "   uid     reg_ts\n",
       "0    1 1998-11-18\n",
       "1    2 1999-07-23"
      ]
     },
     "execution_count": 81,
     "metadata": {},
     "output_type": "execute_result"
    }
   ],
   "source": [
    "users_reg = data.groupby('uid')['reg_ts'].min().reset_index()\n",
    "users_reg.head(2)"
   ]
  },
  {
   "cell_type": "code",
   "execution_count": 82,
   "metadata": {},
   "outputs": [
    {
     "data": {
      "text/plain": [
       "True"
      ]
     },
     "execution_count": 82,
     "metadata": {},
     "output_type": "execute_result"
    }
   ],
   "source": [
    "users_reg['uid'].nunique() == len(users_reg)  # в user_reg все uid уникальны(без дублей)"
   ]
  },
  {
   "cell_type": "markdown",
   "metadata": {},
   "source": [
    "Приступаем к рассчетам"
   ]
  },
  {
   "cell_type": "code",
   "execution_count": 83,
   "metadata": {},
   "outputs": [
    {
     "name": "stdout",
     "output_type": "stream",
     "text": [
      "Enter start date (YYYY-MM-DD) or 'all' to select all data: 2017-01-01\n",
      "Enter end date (YYYY-MM-DD) or 'all' to select all data: 2017-01-10\n",
      "Enter UID or 'all' to select all UID: all\n",
      "Enter the initial number of days for retention range(recommend entering 0 days): 0\n",
      "Enter the end number of days for retention range(recommend entering 1, 7, 30 days): 15\n"
     ]
    },
    {
     "data": {
      "image/png": "[encoded data removed]",
      "text/plain": [
       "<Figure size 1224x576 with 2 Axes>"
      ]
     },
     "metadata": {},
     "output_type": "display_data"
    },
    {
     "name": "stdout",
     "output_type": "stream",
     "text": [
      "Retention:\n",
      "ret_days\n",
      "0     1766.000%\n",
      "1       39.000%\n",
      "2       80.000%\n",
      "3       78.000%\n",
      "4      114.000%\n",
      "5       96.000%\n",
      "6      136.000%\n",
      "7       97.000%\n",
      "8      102.000%\n",
      "9      106.000%\n",
      "10      77.000%\n",
      "11     103.000%\n",
      "12      99.000%\n",
      "13     100.000%\n",
      "14      92.000%\n",
      "15     104.000%\n",
      "Name: Retention, dtype: object\n",
      "Cohort Retention:\n",
      "ret_days        0     1     2     3      4     5      6     7     8     9   \\\n",
      "cohort                                                                       \n",
      "2017-01-01  100.0%  1.7%  6.3%  8.0%  10.3%  8.0%   8.6%  6.3%  6.9%  9.1%   \n",
      "2017-01-02  100.0%  2.3%  5.1%  4.5%   5.7%  5.1%   7.4%  8.5%  6.2%  8.0%   \n",
      "2017-01-03  100.0%  4.6%  4.0%  7.4%   5.1%  7.4%   9.7%  4.0%  7.4%  6.9%   \n",
      "2017-01-04  100.0%  1.1%  4.5%  1.1%   7.9%  6.8%   7.9%  5.6%  6.8%  2.8%   \n",
      "2017-01-05  100.0%  3.4%  6.8%  2.3%   9.1%  5.7%   4.5%  7.4%  6.2%  8.5%   \n",
      "2017-01-06  100.0%  0.6%  4.0%  3.4%   4.0%  3.4%   7.3%  5.6%  2.3%  4.5%   \n",
      "2017-01-07  100.0%  2.8%  3.4%  5.6%   5.6%  4.0%   6.2%  2.8%  4.5%  5.1%   \n",
      "2017-01-08  100.0%  2.3%  4.0%  3.4%   5.6%  5.6%  10.7%  5.1%  4.5%  5.1%   \n",
      "2017-01-09  100.0%  2.2%  3.4%  6.2%   3.4%  5.1%   6.2%  3.4%  7.9%  5.1%   \n",
      "2017-01-10  100.0%  1.1%  3.9%  2.2%   7.9%  3.4%   8.4%  6.2%  5.1%  5.1%   \n",
      "\n",
      "ret_days      10    11    12    13     14    15  \n",
      "cohort                                           \n",
      "2017-01-01  5.1%  8.0%  8.6%  6.9%   6.9%  9.7%  \n",
      "2017-01-02  3.4%  9.7%  5.7%  7.4%  10.2%  5.7%  \n",
      "2017-01-03  7.4%  5.7%  9.1%  3.4%   4.0%  8.6%  \n",
      "2017-01-04  3.4%  7.3%  4.5%  3.4%   3.4%  6.8%  \n",
      "2017-01-05  3.4%  6.2%  5.1%  6.2%   4.5%  4.5%  \n",
      "2017-01-06  4.0%  3.4%  5.1%  6.2%   2.3%  4.5%  \n",
      "2017-01-07  4.5%  4.0%  2.3%  5.6%   4.0%  2.3%  \n",
      "2017-01-08  4.5%  4.5%  5.1%  7.9%   5.1%  4.0%  \n",
      "2017-01-09  4.5%  3.9%  6.7%  5.1%   6.2%  6.7%  \n",
      "2017-01-10  3.4%  5.6%  3.9%  4.5%   5.6%  6.2%  \n"
     ]
    }
   ],
   "source": [
    "# Функция рассчитывает Retention по пользователям из w_data\n",
    "def retention_calc(w_data, start_date=None, stop_date=None, uid=None, range_retention=None):\n",
    "    w_data = w_data.copy()  # создаем копию df для исключения ошибок\n",
    "    w_data['reg_date'] = pd.to_datetime(w_data['reg_ts'])\n",
    "    w_data['log_date'] = pd.to_datetime(w_data['auth_ts'])\n",
    "    \n",
    "# Сортировка данных по заданному пользователем диапазону в start_date и stop_date + uid\n",
    "    if start_date is not None and stop_date is not None:\n",
    "        w_data = w_data[(w_data['reg_date'] >= start_date) & (w_data['reg_date'] <= stop_date)]\n",
    "    if uid is not None and uid != 'all':\n",
    "        w_data = w_data[w_data['uid'] == int(uid)]\n",
    "\n",
    "# Вычисляем разницу между log_date и reg_date и создаем столбец ret_days для расчета retntion period\n",
    "    w_data['ret_days'] = (w_data['log_date'] - w_data['reg_date']).dt.days\n",
    "\n",
    "# Сортировка данных по заданному пользователем диапазону в range_retention\n",
    "    if range_retention is not None:\n",
    "        w_data = w_data[\n",
    "            (w_data['ret_days'] >= range_retention[0])\n",
    "            & (w_data['ret_days'] <= range_retention[1])]\n",
    "\n",
    "    retention = w_data.groupby('ret_days')['uid'].nunique()\n",
    "\n",
    "    return retention, w_data\n",
    "\n",
    "# Функция считает retention rate пользователей по каждой когорте\n",
    "def cohort_analysis(w_data):\n",
    "    w_data['cohort'] = w_data['reg_date'].dt.to_period('D')\n",
    "    cohort_counts = w_data.groupby(['cohort', 'ret_days'])['uid'].nunique()\n",
    "    cohort_sizes = w_data.groupby('cohort')['uid'].nunique()\n",
    "    retention_rate = cohort_counts / cohort_sizes\n",
    "\n",
    "    return retention_rate, w_data\n",
    "\n",
    "# Переменные для ввода пользователем данных для сортировки (период отбора данных, uid, \n",
    "# диапозон просмотра retention)\n",
    "start_date = input(\"Enter start date (YYYY-MM-DD) or 'all' to select all data: \")\n",
    "stop_date = input(\"Enter end date (YYYY-MM-DD) or 'all' to select all data: \")\n",
    "uid = input(\"Enter UID or 'all' to select all UID: \")\n",
    "retention_start = int(input(\"Enter the initial number of days for retention range(recommend entering 0 days): \"))\n",
    "retention_end = int(input(\"Enter the end number of days for retention range(recommend entering 1, 7, 30 days): \"))\n",
    "# классические модели 1, 7, 30 дней и 1 год\n",
    "range_retention = (retention_start, retention_end)\n",
    "\n",
    "\n",
    "# Обработка ввода данных пользователем (если вводится 'all' - присваиваем 'None' \n",
    "# для использования всего диапозона дат).\n",
    "if start_date.lower() == 'all':\n",
    "    start_date = None\n",
    "elif start_date == '':\n",
    "    start_date = pd.to_datetime('1998-11-17') \n",
    "\n",
    "if stop_date.lower() == 'all':\n",
    "    stop_date = None\n",
    "elif stop_date == '':\n",
    "    stop_date = pd.to_datetime('2018-02-18') \n",
    "\n",
    "\n",
    "retention, retention_data = retention_calc(w_data, start_date=start_date, stop_date=stop_date,\n",
    "                                           uid=uid, range_retention=range_retention)\n",
    "retention_table = pd.DataFrame({'Retention': retention})\n",
    "cohort_retention, cohort_data = cohort_analysis(retention_data)\n",
    "\n",
    "\n",
    "# Производим сортировку cohort_data и cohort_retention_table по заданному пользователем периоду даты.\n",
    "if start_date is not None and stop_date is not None:\n",
    "    cohort_data = cohort_data[(cohort_data['cohort'] >= start_date) & (cohort_data['cohort'] <= stop_date)]\n",
    "\n",
    "cohort_retention_table = cohort_retention.unstack(level='ret_days') * 100  # получаем процентное значение\n",
    "\n",
    "if start_date is not None and stop_date is not None:\n",
    "    cohort_retention_table = cohort_retention_table.loc[start_date:stop_date]\n",
    "\n",
    "# добавим знак процента в вывод\n",
    "cohort_retention_table_str = cohort_retention_table.applymap(lambda x: '{:.1f}%'.format(x))\n",
    "\n",
    "# Визуализируем cohort_retention_table в виде heatmap\n",
    "plt.figure(figsize=(17, 8))\n",
    "sns.heatmap(cohort_retention_table, annot=cohort_retention_table_str, fmt=\"\", linewidths=.5, cmap=\"YlGnBu\")\n",
    "plt.title(\"Cohort Analysis - Retention Rate\")\n",
    "plt.ylabel(\"Cohort\")\n",
    "plt.xlabel(\"Retention Days\")\n",
    "plt.show()\n",
    "\n",
    "# Выводим таблицу retention_table и cohort_retention_table\n",
    "print(\"Retention:\")\n",
    "print(retention_table['Retention'].apply(lambda x: '{:.3f}%'.format(x)))\n",
    "\n",
    "print(\"Cohort Retention:\")\n",
    "print(cohort_retention_table_str)"
   ]
  },
  {
   "cell_type": "code",
   "execution_count": 84,
   "metadata": {},
   "outputs": [
    {
     "data": {
      "text/html": [
       "<div>\n",
       "<style scoped>\n",
       "    .dataframe tbody tr th:only-of-type {\n",
       "        vertical-align: middle;\n",
       "    }\n",
       "\n",
       "    .dataframe tbody tr th {\n",
       "        vertical-align: top;\n",
       "    }\n",
       "\n",
       "    .dataframe thead th {\n",
       "        text-align: right;\n",
       "    }\n",
       "</style>\n",
       "<table border=\"1\" class=\"dataframe\">\n",
       "  <thead>\n",
       "    <tr style=\"text-align: right;\">\n",
       "      <th>ret_days</th>\n",
       "      <th>0</th>\n",
       "      <th>1</th>\n",
       "      <th>2</th>\n",
       "      <th>3</th>\n",
       "      <th>4</th>\n",
       "      <th>5</th>\n",
       "      <th>6</th>\n",
       "      <th>7</th>\n",
       "      <th>8</th>\n",
       "      <th>9</th>\n",
       "      <th>10</th>\n",
       "      <th>11</th>\n",
       "      <th>12</th>\n",
       "      <th>13</th>\n",
       "      <th>14</th>\n",
       "      <th>15</th>\n",
       "    </tr>\n",
       "    <tr>\n",
       "      <th>cohort</th>\n",
       "      <th></th>\n",
       "      <th></th>\n",
       "      <th></th>\n",
       "      <th></th>\n",
       "      <th></th>\n",
       "      <th></th>\n",
       "      <th></th>\n",
       "      <th></th>\n",
       "      <th></th>\n",
       "      <th></th>\n",
       "      <th></th>\n",
       "      <th></th>\n",
       "      <th></th>\n",
       "      <th></th>\n",
       "      <th></th>\n",
       "      <th></th>\n",
       "    </tr>\n",
       "  </thead>\n",
       "  <tbody>\n",
       "    <tr>\n",
       "      <th>2017-01-01</th>\n",
       "      <td>100.0%</td>\n",
       "      <td>1.7%</td>\n",
       "      <td>6.3%</td>\n",
       "      <td>8.0%</td>\n",
       "      <td>10.3%</td>\n",
       "      <td>8.0%</td>\n",
       "      <td>8.6%</td>\n",
       "      <td>6.3%</td>\n",
       "      <td>6.9%</td>\n",
       "      <td>9.1%</td>\n",
       "      <td>5.1%</td>\n",
       "      <td>8.0%</td>\n",
       "      <td>8.6%</td>\n",
       "      <td>6.9%</td>\n",
       "      <td>6.9%</td>\n",
       "      <td>9.7%</td>\n",
       "    </tr>\n",
       "    <tr>\n",
       "      <th>2017-01-02</th>\n",
       "      <td>100.0%</td>\n",
       "      <td>2.3%</td>\n",
       "      <td>5.1%</td>\n",
       "      <td>4.5%</td>\n",
       "      <td>5.7%</td>\n",
       "      <td>5.1%</td>\n",
       "      <td>7.4%</td>\n",
       "      <td>8.5%</td>\n",
       "      <td>6.2%</td>\n",
       "      <td>8.0%</td>\n",
       "      <td>3.4%</td>\n",
       "      <td>9.7%</td>\n",
       "      <td>5.7%</td>\n",
       "      <td>7.4%</td>\n",
       "      <td>10.2%</td>\n",
       "      <td>5.7%</td>\n",
       "    </tr>\n",
       "    <tr>\n",
       "      <th>2017-01-03</th>\n",
       "      <td>100.0%</td>\n",
       "      <td>4.6%</td>\n",
       "      <td>4.0%</td>\n",
       "      <td>7.4%</td>\n",
       "      <td>5.1%</td>\n",
       "      <td>7.4%</td>\n",
       "      <td>9.7%</td>\n",
       "      <td>4.0%</td>\n",
       "      <td>7.4%</td>\n",
       "      <td>6.9%</td>\n",
       "      <td>7.4%</td>\n",
       "      <td>5.7%</td>\n",
       "      <td>9.1%</td>\n",
       "      <td>3.4%</td>\n",
       "      <td>4.0%</td>\n",
       "      <td>8.6%</td>\n",
       "    </tr>\n",
       "    <tr>\n",
       "      <th>2017-01-04</th>\n",
       "      <td>100.0%</td>\n",
       "      <td>1.1%</td>\n",
       "      <td>4.5%</td>\n",
       "      <td>1.1%</td>\n",
       "      <td>7.9%</td>\n",
       "      <td>6.8%</td>\n",
       "      <td>7.9%</td>\n",
       "      <td>5.6%</td>\n",
       "      <td>6.8%</td>\n",
       "      <td>2.8%</td>\n",
       "      <td>3.4%</td>\n",
       "      <td>7.3%</td>\n",
       "      <td>4.5%</td>\n",
       "      <td>3.4%</td>\n",
       "      <td>3.4%</td>\n",
       "      <td>6.8%</td>\n",
       "    </tr>\n",
       "    <tr>\n",
       "      <th>2017-01-05</th>\n",
       "      <td>100.0%</td>\n",
       "      <td>3.4%</td>\n",
       "      <td>6.8%</td>\n",
       "      <td>2.3%</td>\n",
       "      <td>9.1%</td>\n",
       "      <td>5.7%</td>\n",
       "      <td>4.5%</td>\n",
       "      <td>7.4%</td>\n",
       "      <td>6.2%</td>\n",
       "      <td>8.5%</td>\n",
       "      <td>3.4%</td>\n",
       "      <td>6.2%</td>\n",
       "      <td>5.1%</td>\n",
       "      <td>6.2%</td>\n",
       "      <td>4.5%</td>\n",
       "      <td>4.5%</td>\n",
       "    </tr>\n",
       "    <tr>\n",
       "      <th>2017-01-06</th>\n",
       "      <td>100.0%</td>\n",
       "      <td>0.6%</td>\n",
       "      <td>4.0%</td>\n",
       "      <td>3.4%</td>\n",
       "      <td>4.0%</td>\n",
       "      <td>3.4%</td>\n",
       "      <td>7.3%</td>\n",
       "      <td>5.6%</td>\n",
       "      <td>2.3%</td>\n",
       "      <td>4.5%</td>\n",
       "      <td>4.0%</td>\n",
       "      <td>3.4%</td>\n",
       "      <td>5.1%</td>\n",
       "      <td>6.2%</td>\n",
       "      <td>2.3%</td>\n",
       "      <td>4.5%</td>\n",
       "    </tr>\n",
       "    <tr>\n",
       "      <th>2017-01-07</th>\n",
       "      <td>100.0%</td>\n",
       "      <td>2.8%</td>\n",
       "      <td>3.4%</td>\n",
       "      <td>5.6%</td>\n",
       "      <td>5.6%</td>\n",
       "      <td>4.0%</td>\n",
       "      <td>6.2%</td>\n",
       "      <td>2.8%</td>\n",
       "      <td>4.5%</td>\n",
       "      <td>5.1%</td>\n",
       "      <td>4.5%</td>\n",
       "      <td>4.0%</td>\n",
       "      <td>2.3%</td>\n",
       "      <td>5.6%</td>\n",
       "      <td>4.0%</td>\n",
       "      <td>2.3%</td>\n",
       "    </tr>\n",
       "    <tr>\n",
       "      <th>2017-01-08</th>\n",
       "      <td>100.0%</td>\n",
       "      <td>2.3%</td>\n",
       "      <td>4.0%</td>\n",
       "      <td>3.4%</td>\n",
       "      <td>5.6%</td>\n",
       "      <td>5.6%</td>\n",
       "      <td>10.7%</td>\n",
       "      <td>5.1%</td>\n",
       "      <td>4.5%</td>\n",
       "      <td>5.1%</td>\n",
       "      <td>4.5%</td>\n",
       "      <td>4.5%</td>\n",
       "      <td>5.1%</td>\n",
       "      <td>7.9%</td>\n",
       "      <td>5.1%</td>\n",
       "      <td>4.0%</td>\n",
       "    </tr>\n",
       "    <tr>\n",
       "      <th>2017-01-09</th>\n",
       "      <td>100.0%</td>\n",
       "      <td>2.2%</td>\n",
       "      <td>3.4%</td>\n",
       "      <td>6.2%</td>\n",
       "      <td>3.4%</td>\n",
       "      <td>5.1%</td>\n",
       "      <td>6.2%</td>\n",
       "      <td>3.4%</td>\n",
       "      <td>7.9%</td>\n",
       "      <td>5.1%</td>\n",
       "      <td>4.5%</td>\n",
       "      <td>3.9%</td>\n",
       "      <td>6.7%</td>\n",
       "      <td>5.1%</td>\n",
       "      <td>6.2%</td>\n",
       "      <td>6.7%</td>\n",
       "    </tr>\n",
       "    <tr>\n",
       "      <th>2017-01-10</th>\n",
       "      <td>100.0%</td>\n",
       "      <td>1.1%</td>\n",
       "      <td>3.9%</td>\n",
       "      <td>2.2%</td>\n",
       "      <td>7.9%</td>\n",
       "      <td>3.4%</td>\n",
       "      <td>8.4%</td>\n",
       "      <td>6.2%</td>\n",
       "      <td>5.1%</td>\n",
       "      <td>5.1%</td>\n",
       "      <td>3.4%</td>\n",
       "      <td>5.6%</td>\n",
       "      <td>3.9%</td>\n",
       "      <td>4.5%</td>\n",
       "      <td>5.6%</td>\n",
       "      <td>6.2%</td>\n",
       "    </tr>\n",
       "  </tbody>\n",
       "</table>\n",
       "</div>"
      ],
      "text/plain": [
       "ret_days        0     1     2     3      4     5      6     7     8     9   \\\n",
       "cohort                                                                       \n",
       "2017-01-01  100.0%  1.7%  6.3%  8.0%  10.3%  8.0%   8.6%  6.3%  6.9%  9.1%   \n",
       "2017-01-02  100.0%  2.3%  5.1%  4.5%   5.7%  5.1%   7.4%  8.5%  6.2%  8.0%   \n",
       "2017-01-03  100.0%  4.6%  4.0%  7.4%   5.1%  7.4%   9.7%  4.0%  7.4%  6.9%   \n",
       "2017-01-04  100.0%  1.1%  4.5%  1.1%   7.9%  6.8%   7.9%  5.6%  6.8%  2.8%   \n",
       "2017-01-05  100.0%  3.4%  6.8%  2.3%   9.1%  5.7%   4.5%  7.4%  6.2%  8.5%   \n",
       "2017-01-06  100.0%  0.6%  4.0%  3.4%   4.0%  3.4%   7.3%  5.6%  2.3%  4.5%   \n",
       "2017-01-07  100.0%  2.8%  3.4%  5.6%   5.6%  4.0%   6.2%  2.8%  4.5%  5.1%   \n",
       "2017-01-08  100.0%  2.3%  4.0%  3.4%   5.6%  5.6%  10.7%  5.1%  4.5%  5.1%   \n",
       "2017-01-09  100.0%  2.2%  3.4%  6.2%   3.4%  5.1%   6.2%  3.4%  7.9%  5.1%   \n",
       "2017-01-10  100.0%  1.1%  3.9%  2.2%   7.9%  3.4%   8.4%  6.2%  5.1%  5.1%   \n",
       "\n",
       "ret_days      10    11    12    13     14    15  \n",
       "cohort                                           \n",
       "2017-01-01  5.1%  8.0%  8.6%  6.9%   6.9%  9.7%  \n",
       "2017-01-02  3.4%  9.7%  5.7%  7.4%  10.2%  5.7%  \n",
       "2017-01-03  7.4%  5.7%  9.1%  3.4%   4.0%  8.6%  \n",
       "2017-01-04  3.4%  7.3%  4.5%  3.4%   3.4%  6.8%  \n",
       "2017-01-05  3.4%  6.2%  5.1%  6.2%   4.5%  4.5%  \n",
       "2017-01-06  4.0%  3.4%  5.1%  6.2%   2.3%  4.5%  \n",
       "2017-01-07  4.5%  4.0%  2.3%  5.6%   4.0%  2.3%  \n",
       "2017-01-08  4.5%  4.5%  5.1%  7.9%   5.1%  4.0%  \n",
       "2017-01-09  4.5%  3.9%  6.7%  5.1%   6.2%  6.7%  \n",
       "2017-01-10  3.4%  5.6%  3.9%  4.5%   5.6%  6.2%  "
      ]
     },
     "execution_count": 84,
     "metadata": {},
     "output_type": "execute_result"
    }
   ],
   "source": [
    "cohort_retention_table_str"
   ]
  },
  {
   "cell_type": "code",
   "execution_count": 85,
   "metadata": {},
   "outputs": [],
   "source": [
    "cohort_retention_table.to_excel('cohort_retention_table.xlsx', index=False)"
   ]
  },
  {
   "cell_type": "markdown",
   "metadata": {},
   "source": [
    "##### Для удобства считывания данных прикладываю ссылку на визуализацию в Tableau\n",
    "##### https://public.tableau.com/app/profile/maksim.kuzmin/viz/Final_project_v1_Retention/Sheet2?publish=yes"
   ]
  },
  {
   "cell_type": "markdown",
   "metadata": {},
   "source": [
    "# Задание №2"
   ]
  },
  {
   "cell_type": "markdown",
   "metadata": {},
   "source": [
    "Исходные данные:\n",
    "1. ARPU в тестовой группе(b_group) выше на 5%, чем в контрольной(a_group);\n",
    "2. В контрольной группе(a_group) 1928 игроков из 202103 платящие (~0.95%);\n",
    "3. В тестовой(b_group) группе 1805 из 202667 платящие (~0.89%).\n",
    "\n",
    "Объявим гипотезы:\n",
    "\n",
    "H0 – никакого различия между группами a & b нет\n",
    "\n",
    "H1 – группы a & b значимо различаются"
   ]
  },
  {
   "cell_type": "code",
   "execution_count": 86,
   "metadata": {},
   "outputs": [],
   "source": [
    "ab_group = pd.read_csv('/mnt/HC_Volume_18315164/home-jupyter/jupyter-m-kuzmin/p1_t2', sep=';')"
   ]
  },
  {
   "cell_type": "markdown",
   "metadata": {},
   "source": [
    "##### Проверим полученные данные"
   ]
  },
  {
   "cell_type": "code",
   "execution_count": 87,
   "metadata": {},
   "outputs": [
    {
     "data": {
      "text/html": [
       "<div>\n",
       "<style scoped>\n",
       "    .dataframe tbody tr th:only-of-type {\n",
       "        vertical-align: middle;\n",
       "    }\n",
       "\n",
       "    .dataframe tbody tr th {\n",
       "        vertical-align: top;\n",
       "    }\n",
       "\n",
       "    .dataframe thead th {\n",
       "        text-align: right;\n",
       "    }\n",
       "</style>\n",
       "<table border=\"1\" class=\"dataframe\">\n",
       "  <thead>\n",
       "    <tr style=\"text-align: right;\">\n",
       "      <th></th>\n",
       "      <th>user_id</th>\n",
       "      <th>revenue</th>\n",
       "      <th>testgroup</th>\n",
       "    </tr>\n",
       "  </thead>\n",
       "  <tbody>\n",
       "    <tr>\n",
       "      <th>0</th>\n",
       "      <td>1</td>\n",
       "      <td>0</td>\n",
       "      <td>b</td>\n",
       "    </tr>\n",
       "    <tr>\n",
       "      <th>1</th>\n",
       "      <td>2</td>\n",
       "      <td>0</td>\n",
       "      <td>a</td>\n",
       "    </tr>\n",
       "  </tbody>\n",
       "</table>\n",
       "</div>"
      ],
      "text/plain": [
       "   user_id  revenue testgroup\n",
       "0        1        0         b\n",
       "1        2        0         a"
      ]
     },
     "execution_count": 87,
     "metadata": {},
     "output_type": "execute_result"
    }
   ],
   "source": [
    "ab_group.head(2)"
   ]
  },
  {
   "cell_type": "code",
   "execution_count": 88,
   "metadata": {},
   "outputs": [
    {
     "data": {
      "text/plain": [
       "user_id       int64\n",
       "revenue       int64\n",
       "testgroup    object\n",
       "dtype: object"
      ]
     },
     "execution_count": 88,
     "metadata": {},
     "output_type": "execute_result"
    }
   ],
   "source": [
    "ab_group.dtypes"
   ]
  },
  {
   "cell_type": "code",
   "execution_count": 89,
   "metadata": {},
   "outputs": [
    {
     "data": {
      "text/plain": [
       "user_id      0\n",
       "revenue      0\n",
       "testgroup    0\n",
       "dtype: int64"
      ]
     },
     "execution_count": 89,
     "metadata": {},
     "output_type": "execute_result"
    }
   ],
   "source": [
    "ab_group.isna().sum()"
   ]
  },
  {
   "cell_type": "code",
   "execution_count": 90,
   "metadata": {},
   "outputs": [
    {
     "data": {
      "text/html": [
       "<div>\n",
       "<style scoped>\n",
       "    .dataframe tbody tr th:only-of-type {\n",
       "        vertical-align: middle;\n",
       "    }\n",
       "\n",
       "    .dataframe tbody tr th {\n",
       "        vertical-align: top;\n",
       "    }\n",
       "\n",
       "    .dataframe thead th {\n",
       "        text-align: right;\n",
       "    }\n",
       "</style>\n",
       "<table border=\"1\" class=\"dataframe\">\n",
       "  <thead>\n",
       "    <tr style=\"text-align: right;\">\n",
       "      <th></th>\n",
       "      <th>testgroup</th>\n",
       "      <th>revenue</th>\n",
       "    </tr>\n",
       "  </thead>\n",
       "  <tbody>\n",
       "    <tr>\n",
       "      <th>0</th>\n",
       "      <td>a</td>\n",
       "      <td>5136189</td>\n",
       "    </tr>\n",
       "    <tr>\n",
       "      <th>1</th>\n",
       "      <td>b</td>\n",
       "      <td>5421603</td>\n",
       "    </tr>\n",
       "  </tbody>\n",
       "</table>\n",
       "</div>"
      ],
      "text/plain": [
       "  testgroup  revenue\n",
       "0         a  5136189\n",
       "1         b  5421603"
      ]
     },
     "execution_count": 90,
     "metadata": {},
     "output_type": "execute_result"
    }
   ],
   "source": [
    "ab_group.groupby('testgroup').agg({'revenue': 'sum'}).round(2).reset_index()"
   ]
  },
  {
   "cell_type": "code",
   "execution_count": 91,
   "metadata": {},
   "outputs": [
    {
     "data": {
      "text/html": [
       "<div>\n",
       "<style scoped>\n",
       "    .dataframe tbody tr th:only-of-type {\n",
       "        vertical-align: middle;\n",
       "    }\n",
       "\n",
       "    .dataframe tbody tr th {\n",
       "        vertical-align: top;\n",
       "    }\n",
       "\n",
       "    .dataframe thead th {\n",
       "        text-align: right;\n",
       "    }\n",
       "</style>\n",
       "<table border=\"1\" class=\"dataframe\">\n",
       "  <thead>\n",
       "    <tr style=\"text-align: right;\">\n",
       "      <th></th>\n",
       "      <th>testgroup</th>\n",
       "      <th>revenue</th>\n",
       "    </tr>\n",
       "  </thead>\n",
       "  <tbody>\n",
       "    <tr>\n",
       "      <th>0</th>\n",
       "      <td>a</td>\n",
       "      <td>25.41</td>\n",
       "    </tr>\n",
       "    <tr>\n",
       "      <th>1</th>\n",
       "      <td>b</td>\n",
       "      <td>26.75</td>\n",
       "    </tr>\n",
       "  </tbody>\n",
       "</table>\n",
       "</div>"
      ],
      "text/plain": [
       "  testgroup  revenue\n",
       "0         a    25.41\n",
       "1         b    26.75"
      ]
     },
     "execution_count": 91,
     "metadata": {},
     "output_type": "execute_result"
    }
   ],
   "source": [
    "ab_group.groupby('testgroup').agg({'revenue': 'mean'}).round(2).reset_index()"
   ]
  },
  {
   "cell_type": "code",
   "execution_count": 92,
   "metadata": {},
   "outputs": [
    {
     "data": {
      "text/html": [
       "<div>\n",
       "<style scoped>\n",
       "    .dataframe tbody tr th:only-of-type {\n",
       "        vertical-align: middle;\n",
       "    }\n",
       "\n",
       "    .dataframe tbody tr th {\n",
       "        vertical-align: top;\n",
       "    }\n",
       "\n",
       "    .dataframe thead th {\n",
       "        text-align: right;\n",
       "    }\n",
       "</style>\n",
       "<table border=\"1\" class=\"dataframe\">\n",
       "  <thead>\n",
       "    <tr style=\"text-align: right;\">\n",
       "      <th></th>\n",
       "      <th>testgroup</th>\n",
       "      <th>revenue</th>\n",
       "    </tr>\n",
       "  </thead>\n",
       "  <tbody>\n",
       "    <tr>\n",
       "      <th>0</th>\n",
       "      <td>a</td>\n",
       "      <td>0.0</td>\n",
       "    </tr>\n",
       "    <tr>\n",
       "      <th>1</th>\n",
       "      <td>b</td>\n",
       "      <td>0.0</td>\n",
       "    </tr>\n",
       "  </tbody>\n",
       "</table>\n",
       "</div>"
      ],
      "text/plain": [
       "  testgroup  revenue\n",
       "0         a      0.0\n",
       "1         b      0.0"
      ]
     },
     "execution_count": 92,
     "metadata": {},
     "output_type": "execute_result"
    }
   ],
   "source": [
    "ab_group.groupby('testgroup').agg({'revenue': 'median'}).round(2).reset_index()"
   ]
  },
  {
   "cell_type": "markdown",
   "metadata": {},
   "source": [
    "#### Разделим на две группы (а & b) для удобства в работе"
   ]
  },
  {
   "cell_type": "code",
   "execution_count": 93,
   "metadata": {},
   "outputs": [
    {
     "data": {
      "text/plain": [
       "(202103, 2)"
      ]
     },
     "execution_count": 93,
     "metadata": {},
     "output_type": "execute_result"
    }
   ],
   "source": [
    "a_group = ab_group[ab_group['testgroup'] == 'a']\n",
    "a_group = a_group.copy()\n",
    "a_group.drop('testgroup', axis=1, inplace=True)\n",
    "a_group.shape"
   ]
  },
  {
   "cell_type": "code",
   "execution_count": 94,
   "metadata": {},
   "outputs": [
    {
     "data": {
      "text/plain": [
       "(202667, 2)"
      ]
     },
     "execution_count": 94,
     "metadata": {},
     "output_type": "execute_result"
    }
   ],
   "source": [
    "b_group = ab_group[ab_group['testgroup'] == 'b']\n",
    "b_group = b_group.copy()\n",
    "b_group.drop('testgroup', axis=1, inplace=True)\n",
    "b_group.shape"
   ]
  },
  {
   "cell_type": "markdown",
   "metadata": {},
   "source": [
    "#### Проверим предоставленную информацию об ARPU для надежности"
   ]
  },
  {
   "cell_type": "markdown",
   "metadata": {},
   "source": [
    "Для a_group"
   ]
  },
  {
   "cell_type": "code",
   "execution_count": 95,
   "metadata": {},
   "outputs": [
    {
     "data": {
      "text/plain": [
       "25.41"
      ]
     },
     "execution_count": 95,
     "metadata": {},
     "output_type": "execute_result"
    }
   ],
   "source": [
    "revenue_sum_a = a_group['revenue'].sum()  # суммируем доход по группе А\n",
    "total_users_a = a_group['user_id'].nunique()  # считаем уникальное кол-во пользователей\n",
    "APRU_a = revenue_sum_a / total_users_a  # считаем показатель ARPU\n",
    "APRU_a.round(2)"
   ]
  },
  {
   "cell_type": "markdown",
   "metadata": {},
   "source": [
    "Для b_group"
   ]
  },
  {
   "cell_type": "code",
   "execution_count": 96,
   "metadata": {},
   "outputs": [
    {
     "data": {
      "text/plain": [
       "26.75"
      ]
     },
     "execution_count": 96,
     "metadata": {},
     "output_type": "execute_result"
    }
   ],
   "source": [
    "revenue_sum_b = b_group['revenue'].sum()  # суммируем доход по группе b\n",
    "total_users_b = b_group['user_id'].nunique()  # считаем уникальное кол-во пользователей\n",
    "APRU_b = revenue_sum_b / total_users_b  # считаем показатель ARPU\n",
    "APRU_b.round(2)"
   ]
  },
  {
   "cell_type": "markdown",
   "metadata": {},
   "source": [
    "Вывод по ARPU"
   ]
  },
  {
   "cell_type": "code",
   "execution_count": 97,
   "metadata": {},
   "outputs": [
    {
     "data": {
      "text/plain": [
       "5.26"
      ]
     },
     "execution_count": 97,
     "metadata": {},
     "output_type": "execute_result"
    }
   ],
   "source": [
    "diff_a_b = ((APRU_b - APRU_a) / APRU_a) * 100\n",
    "diff_a_b.round(2)"
   ]
  },
  {
   "cell_type": "markdown",
   "metadata": {},
   "source": [
    "Наше вычисление подтвердило разницу ARPU между группами в 5% (точнее в 5.26%)"
   ]
  },
  {
   "cell_type": "markdown",
   "metadata": {},
   "source": [
    "#### Проверим данные по группам на аномалии посредством визуального анализа\n",
    "#### и тестов на нормальность распределения"
   ]
  },
  {
   "cell_type": "code",
   "execution_count": 98,
   "metadata": {},
   "outputs": [
    {
     "data": {
      "text/plain": [
       "<matplotlib.axes._subplots.AxesSubplot at 0x7f6986722438>"
      ]
     },
     "execution_count": 98,
     "metadata": {},
     "output_type": "execute_result"
    },
    {
     "data": {
      "image/png": "[encoded data removed]",
      "text/plain": [
       "<Figure size 432x288 with 1 Axes>"
      ]
     },
     "metadata": {},
     "output_type": "display_data"
    }
   ],
   "source": [
    "sns.boxplot(x='testgroup', y='revenue', data=ab_group)"
   ]
  },
  {
   "cell_type": "code",
   "execution_count": 99,
   "metadata": {},
   "outputs": [
    {
     "name": "stderr",
     "output_type": "stream",
     "text": [
      "/opt/tljh/user/lib/python3.7/site-packages/seaborn/distributions.py:2557: FutureWarning: `distplot` is a deprecated function and will be removed in a future version. Please adapt your code to use either `displot` (a figure-level function with similar flexibility) or `histplot` (an axes-level function for histograms).\n",
      "  warnings.warn(msg, FutureWarning)\n"
     ]
    },
    {
     "data": {
      "text/plain": [
       "<matplotlib.axes._subplots.AxesSubplot at 0x7f691c8f2be0>"
      ]
     },
     "execution_count": 99,
     "metadata": {},
     "output_type": "execute_result"
    },
    {
     "data": {
      "image/png": "[encoded data removed]",
      "text/plain": [
       "<Figure size 432x288 with 1 Axes>"
      ]
     },
     "metadata": {},
     "output_type": "display_data"
    }
   ],
   "source": [
    "sns.distplot(a_group.revenue)"
   ]
  },
  {
   "cell_type": "code",
   "execution_count": 100,
   "metadata": {},
   "outputs": [
    {
     "name": "stderr",
     "output_type": "stream",
     "text": [
      "/opt/tljh/user/lib/python3.7/site-packages/seaborn/distributions.py:2557: FutureWarning: `distplot` is a deprecated function and will be removed in a future version. Please adapt your code to use either `displot` (a figure-level function with similar flexibility) or `histplot` (an axes-level function for histograms).\n",
      "  warnings.warn(msg, FutureWarning)\n"
     ]
    },
    {
     "data": {
      "text/plain": [
       "<matplotlib.axes._subplots.AxesSubplot at 0x7f691c767f98>"
      ]
     },
     "execution_count": 100,
     "metadata": {},
     "output_type": "execute_result"
    },
    {
     "data": {
      "image/png": "[encoded data removed]",
      "text/plain": [
       "<Figure size 432x288 with 1 Axes>"
      ]
     },
     "metadata": {},
     "output_type": "display_data"
    }
   ],
   "source": [
    "sns.distplot(b_group.revenue)"
   ]
  },
  {
   "cell_type": "markdown",
   "metadata": {},
   "source": [
    "После построения графиков отчетливо видно, что распределения не нормальны и есть сильные выбросы в a_group. Это говорит нам о том, что использование таких методов как ANOVA, линейная регрессия, корреляция Пирсона могут дать недостоверные и/или искаженные результаты.\n",
    "\n",
    "Дополнительно проведем тест на нормальность данных: Андерсона-Дарлинга.\n",
    "Так как тест Шапиро-Вилка предполагает использование небольшого кол-ва данных и менее точно отражает результаты при наличии выбросов, проведем тест Андерсона-Дарлинга, который более точно работает с выбросами и с имеющимся у нас кол-вом данных."
   ]
  },
  {
   "cell_type": "code",
   "execution_count": 101,
   "metadata": {},
   "outputs": [
    {
     "name": "stdout",
     "output_type": "stream",
     "text": [
      "Результат теста Андерсона-Дарлинга для a_group: AndersonResult(statistic=77221.00043053087, critical_values=array([0.576, 0.656, 0.787, 0.918, 1.092]), significance_level=array([15. , 10. ,  5. ,  2.5,  1. ]))\n",
      "Результат теста Андерсона-Дарлинга для b_group: AndersonResult(statistic=77383.39298710425, critical_values=array([0.576, 0.656, 0.787, 0.918, 1.092]), significance_level=array([15. , 10. ,  5. ,  2.5,  1. ]))\n"
     ]
    }
   ],
   "source": [
    "result_anderson_a = stats.anderson(a_group['revenue'])\n",
    "result_anderson_b = stats.anderson(b_group['revenue'])\n",
    "print(f'Результат теста Андерсона-Дарлинга для a_group: {result_anderson_a}')\n",
    "print(f'Результат теста Андерсона-Дарлинга для b_group: {result_anderson_b}')"
   ]
  },
  {
   "cell_type": "markdown",
   "metadata": {},
   "source": [
    "На основании графиков и полученных результатов теста Андерсона-Дарлинга можем сказать, что присутствуют значительные выбросы в group_a и распределения не являются нормальными."
   ]
  },
  {
   "cell_type": "markdown",
   "metadata": {},
   "source": [
    "#### Посмотрим кол-во нулевых значений в столбце revenue по группам"
   ]
  },
  {
   "cell_type": "code",
   "execution_count": 102,
   "metadata": {},
   "outputs": [
    {
     "name": "stdout",
     "output_type": "stream",
     "text": [
      "Количество нулевых строк в revenue (a_group) = 200175\n",
      "Количество строк с ненулевым значением в revenue (a_group) = 1928\n",
      "Количество нулевых строк в revenue (b_group) = 200862\n",
      "Количество строк с ненулевым значением в revenue (b_group) = 1805\n"
     ]
    }
   ],
   "source": [
    "count_zeros_a = (~a_group['revenue'].astype(bool)).sum(axis=0)\n",
    "count_zeros_b = (~b_group['revenue'].astype(bool)).sum(axis=0)\n",
    "print(f'Количество нулевых строк в revenue (a_group) = {count_zeros_a}')\n",
    "print(f'Количество строк с ненулевым значением в revenue (a_group) = {a_group.shape[0] - count_zeros_a}')\n",
    "print(f'Количество нулевых строк в revenue (b_group) = {count_zeros_b}')\n",
    "print(f'Количество строк с ненулевым значением в revenue (b_group) = {b_group.shape[0] - count_zeros_b}')"
   ]
  },
  {
   "cell_type": "markdown",
   "metadata": {},
   "source": [
    "Мы видим, что ~ 99% данных занимают 'нулевые' revenue, что при проведении тестов на нормальность будет значительно искажать результаты."
   ]
  },
  {
   "cell_type": "markdown",
   "metadata": {},
   "source": [
    "#### Попробуем убрать из групп все 'нулевые' значения и протестируем"
   ]
  },
  {
   "cell_type": "markdown",
   "metadata": {},
   "source": [
    "Но перед этим посмотрим на кол-во выбросов в данных и их сумму в revenue group_a"
   ]
  },
  {
   "cell_type": "code",
   "execution_count": 103,
   "metadata": {},
   "outputs": [
    {
     "data": {
      "text/html": [
       "<div>\n",
       "<style scoped>\n",
       "    .dataframe tbody tr th:only-of-type {\n",
       "        vertical-align: middle;\n",
       "    }\n",
       "\n",
       "    .dataframe tbody tr th {\n",
       "        vertical-align: top;\n",
       "    }\n",
       "\n",
       "    .dataframe thead th {\n",
       "        text-align: right;\n",
       "    }\n",
       "</style>\n",
       "<table border=\"1\" class=\"dataframe\">\n",
       "  <thead>\n",
       "    <tr style=\"text-align: right;\">\n",
       "      <th></th>\n",
       "      <th>user_id</th>\n",
       "      <th>revenue</th>\n",
       "    </tr>\n",
       "  </thead>\n",
       "  <tbody>\n",
       "    <tr>\n",
       "      <th>72</th>\n",
       "      <td>73</td>\n",
       "      <td>351</td>\n",
       "    </tr>\n",
       "    <tr>\n",
       "      <th>341</th>\n",
       "      <td>342</td>\n",
       "      <td>290</td>\n",
       "    </tr>\n",
       "    <tr>\n",
       "      <th>385</th>\n",
       "      <td>386</td>\n",
       "      <td>250</td>\n",
       "    </tr>\n",
       "    <tr>\n",
       "      <th>416</th>\n",
       "      <td>417</td>\n",
       "      <td>37324</td>\n",
       "    </tr>\n",
       "    <tr>\n",
       "      <th>712</th>\n",
       "      <td>713</td>\n",
       "      <td>255</td>\n",
       "    </tr>\n",
       "    <tr>\n",
       "      <th>...</th>\n",
       "      <td>...</td>\n",
       "      <td>...</td>\n",
       "    </tr>\n",
       "    <tr>\n",
       "      <th>404304</th>\n",
       "      <td>404305</td>\n",
       "      <td>360</td>\n",
       "    </tr>\n",
       "    <tr>\n",
       "      <th>404315</th>\n",
       "      <td>404316</td>\n",
       "      <td>262</td>\n",
       "    </tr>\n",
       "    <tr>\n",
       "      <th>404543</th>\n",
       "      <td>404544</td>\n",
       "      <td>369</td>\n",
       "    </tr>\n",
       "    <tr>\n",
       "      <th>404602</th>\n",
       "      <td>404603</td>\n",
       "      <td>251</td>\n",
       "    </tr>\n",
       "    <tr>\n",
       "      <th>404767</th>\n",
       "      <td>404768</td>\n",
       "      <td>231</td>\n",
       "    </tr>\n",
       "  </tbody>\n",
       "</table>\n",
       "<p>1928 rows × 2 columns</p>\n",
       "</div>"
      ],
      "text/plain": [
       "        user_id  revenue\n",
       "72           73      351\n",
       "341         342      290\n",
       "385         386      250\n",
       "416         417    37324\n",
       "712         713      255\n",
       "...         ...      ...\n",
       "404304   404305      360\n",
       "404315   404316      262\n",
       "404543   404544      369\n",
       "404602   404603      251\n",
       "404767   404768      231\n",
       "\n",
       "[1928 rows x 2 columns]"
      ]
     },
     "execution_count": 103,
     "metadata": {},
     "output_type": "execute_result"
    }
   ],
   "source": [
    "a_group[a_group.revenue != 0]"
   ]
  },
  {
   "cell_type": "code",
   "execution_count": 104,
   "metadata": {},
   "outputs": [
    {
     "name": "stdout",
     "output_type": "stream",
     "text": [
      "Кол-во строк в выбросах a_group: 123 строки\n",
      "Выбросы составляют 6.38% (123 строки) от всей a_group без нулевых значений (1928 строки)\n",
      "Сумма выбросов a_group: 4590252\n",
      "Сумма выбросов в revenue в a_group составляет 89.4% от общей суммы revenue в group_a 5136189\n"
     ]
    }
   ],
   "source": [
    "a_group_nonull_outliers = a_group.query(\"revenue != 0 & revenue >= 5000\")\n",
    "res_outliers_a = len(a_group_nonull_outliers) / len(a_group[a_group.revenue != 0]) * 100\n",
    "round_result_a = '{:.2f}'.format(res_outliers_a)\n",
    "print(f'Кол-во строк в выбросах a_group: {len(a_group_nonull_outliers.revenue)} строки')\n",
    "print(f'Выбросы составляют {round_result_a}% ({len(a_group_nonull_outliers.revenue)} строки) '\n",
    "      f'от всей a_group без нулевых значений ({len(a_group[a_group.revenue != 0])} строки)')\n",
    "print(f'Сумма выбросов a_group: {a_group_nonull_outliers.revenue.sum()}')\n",
    "print(f'Сумма выбросов в revenue в a_group составляет '\n",
    "      f'{(a_group_nonull_outliers.revenue.sum() / a_group.revenue.sum() *100).round(1)}% '\n",
    "      f'от общей суммы revenue в group_a {a_group.revenue.sum()}')"
   ]
  },
  {
   "cell_type": "markdown",
   "metadata": {},
   "source": [
    "Как мы видим, сумма выбросов revenue a_group составляет большую часть(89.4%) от общей суммы revenue a_group, что говорит нам о том, что данные в a_group сильно несбалансированы, и, конечно, не распределны нормально. Также можем предположить, что так называемые \"выбросы\" могут являться не выбросами, а результатом набора предложений a_group.  Поэтому проведем тесты  без 'нулевых' значений оставив выбросы, как значимаю часть a_group. Учитывая специфику наших данных будем использовать Бутстрап и медиану (более усточйчива к выбросам)."
   ]
  },
  {
   "cell_type": "markdown",
   "metadata": {},
   "source": [
    "#### Бутстрап проверка (без 'нулевых' значений)"
   ]
  },
  {
   "cell_type": "code",
   "execution_count": 105,
   "metadata": {},
   "outputs": [],
   "source": [
    "a_group_not_null = a_group[a_group.revenue != 0]\n",
    "a_group_test = a_group_not_null.revenue\n",
    "b_group_not_null = b_group[b_group.revenue != 0]\n",
    "b_group_test = b_group_not_null.revenue"
   ]
  },
  {
   "cell_type": "code",
   "execution_count": 106,
   "metadata": {},
   "outputs": [],
   "source": [
    "def get_bootstrap(\n",
    "    a_group_test,  # числовые значения первой выборки\n",
    "    b_group_test,  # числовые значения второй выборки\n",
    "    boot_it=2000,  # количество бутстрэп-подвыборок\n",
    "    statistic=np.median,  # интересующая нас статистика (median)\n",
    "    bootstrap_conf_level=0.95  # уровень значимости\n",
    "):\n",
    "    boot_data = []\n",
    "    for i in tqdm(range(boot_it)):  # извлекаем подвыборки\n",
    "        samples_1 = a_group_test.sample(\n",
    "            len(a_group_test), \n",
    "            replace=True  # параметр возвращения\n",
    "        ).values\n",
    "        \n",
    "        samples_2 = b_group_test.sample(\n",
    "            len(b_group_test), \n",
    "            replace=True\n",
    "        ).values\n",
    "        \n",
    "        boot_data.append(statistic(samples_1) - statistic(samples_2))  # median() - применяем статистику\n",
    "        \n",
    "    pd_boot_data = pd.DataFrame(boot_data)\n",
    "        \n",
    "    left_quant = (1 - bootstrap_conf_level) / 2\n",
    "    right_quant = 1 - (1 - bootstrap_conf_level) / 2\n",
    "    quants = pd_boot_data.quantile([left_quant, right_quant])\n",
    "        \n",
    "    p_1 = norm.cdf(\n",
    "        x=0, \n",
    "        loc=np.median(boot_data), \n",
    "        scale=np.std(boot_data)\n",
    "    )\n",
    "    p_2 = norm.cdf(\n",
    "        x=0, \n",
    "        loc=-np.median(boot_data), \n",
    "        scale=np.std(boot_data)\n",
    "    )\n",
    "    p_value = min(p_1, p_2) * 2\n",
    "        \n",
    "    # Визуализация\n",
    "    _, _, bars = plt.hist(pd_boot_data[0], bins=50)\n",
    "    for bar in bars:\n",
    "        if bar.get_x() <= quants.iloc[0][0] or bar.get_x() >= quants.iloc[1][0]:\n",
    "            bar.set_facecolor('red')\n",
    "        else: \n",
    "            bar.set_facecolor('grey')\n",
    "            bar.set_edgecolor('black')\n",
    "    \n",
    "    plt.style.use('ggplot')\n",
    "    plt.vlines(quants, ymin=0, ymax=50, linestyle='--')\n",
    "    plt.xlabel('boot_data')\n",
    "    plt.ylabel('frequency')\n",
    "    plt.title(\"Histogram of boot_data\")\n",
    "    plt.show()\n",
    "       \n",
    "    return {\"quants\": quants, \n",
    "            \"p_value\": p_value}"
   ]
  },
  {
   "cell_type": "code",
   "execution_count": 107,
   "metadata": {},
   "outputs": [
    {
     "data": {
      "application/vnd.jupyter.widget-view+json": {
       "model_id": "2e23289196314099890bc1512f1dbedd",
       "version_major": 2,
       "version_minor": 0
      },
      "text/plain": [
       "HBox(children=(FloatProgress(value=0.0, max=2000.0), HTML(value='')))"
      ]
     },
     "metadata": {},
     "output_type": "display_data"
    },
    {
     "name": "stdout",
     "output_type": "stream",
     "text": [
      "\n"
     ]
    },
    {
     "data": {
      "image/png": "[encoded data removed]",
      "text/plain": [
       "<Figure size 432x288 with 1 Axes>"
      ]
     },
     "metadata": {},
     "output_type": "display_data"
    },
    {
     "data": {
      "text/plain": [
       "{'quants':                0\n",
       " 0.025 -2759.0125\n",
       " 0.975 -2654.9750,\n",
       " 'p_value': 0.0}"
      ]
     },
     "execution_count": 107,
     "metadata": {},
     "output_type": "execute_result"
    }
   ],
   "source": [
    "get_bootstrap(a_group_test, b_group_test)"
   ]
  },
  {
   "cell_type": "markdown",
   "metadata": {},
   "source": [
    "Бутстрап показывает нам, что между a_group и b_group имеются значимые различия, а значит отвергнуть гипотезу H1(о различии двух групп) на данный момент мы не можем."
   ]
  },
  {
   "cell_type": "code",
   "execution_count": 108,
   "metadata": {},
   "outputs": [],
   "source": [
    "a_group_without_null_outliers = a_group_not_null[a_group_not_null.revenue <= 5000]\n",
    "a_group_test_2 = a_group_without_null_outliers.revenue\n",
    "\n",
    "b_group_without_null = b_group[b_group.revenue != 0]\n",
    "b_group_test_2 = b_group_without_null.revenue\n",
    "\n",
    "ab_group_nonull = ab_group.query(\"revenue != 0\")"
   ]
  },
  {
   "cell_type": "code",
   "execution_count": 109,
   "metadata": {},
   "outputs": [
    {
     "data": {
      "text/plain": [
       "True"
      ]
     },
     "execution_count": 109,
     "metadata": {},
     "output_type": "execute_result"
    }
   ],
   "source": [
    "len(a_group_without_null_outliers) == len(b_group_without_null)"
   ]
  },
  {
   "cell_type": "markdown",
   "metadata": {},
   "source": [
    "Интересное наблюдение, после удаления значений > 5000 и 'нулевых' значений из a_group и 'нулевых' значений из b_group (выбросов в b_group нет), длины обоих df совпали (1805 строк)."
   ]
  },
  {
   "cell_type": "markdown",
   "metadata": {},
   "source": [
    "#### Построим графики для новых выборок (без 'нулевых' значений)"
   ]
  },
  {
   "cell_type": "code",
   "execution_count": 110,
   "metadata": {},
   "outputs": [
    {
     "data": {
      "text/plain": [
       "<matplotlib.axes._subplots.AxesSubplot at 0x7f6984452f98>"
      ]
     },
     "execution_count": 110,
     "metadata": {},
     "output_type": "execute_result"
    },
    {
     "data": {
      "image/png": "[encoded data removed]",
      "text/plain": [
       "<Figure size 432x288 with 1 Axes>"
      ]
     },
     "metadata": {},
     "output_type": "display_data"
    }
   ],
   "source": [
    "sns.boxplot(x='testgroup', y='revenue', data=ab_group_nonull)"
   ]
  },
  {
   "cell_type": "code",
   "execution_count": 111,
   "metadata": {},
   "outputs": [
    {
     "name": "stderr",
     "output_type": "stream",
     "text": [
      "/opt/tljh/user/lib/python3.7/site-packages/seaborn/distributions.py:2557: FutureWarning: `distplot` is a deprecated function and will be removed in a future version. Please adapt your code to use either `displot` (a figure-level function with similar flexibility) or `histplot` (an axes-level function for histograms).\n",
      "  warnings.warn(msg, FutureWarning)\n"
     ]
    },
    {
     "data": {
      "text/plain": [
       "<matplotlib.axes._subplots.AxesSubplot at 0x7f69844522b0>"
      ]
     },
     "execution_count": 111,
     "metadata": {},
     "output_type": "execute_result"
    },
    {
     "data": {
      "image/png": "[encoded data removed]",
      "text/plain": [
       "<Figure size 432x288 with 1 Axes>"
      ]
     },
     "metadata": {},
     "output_type": "display_data"
    }
   ],
   "source": [
    "sns.distplot(a_group_not_null.revenue)"
   ]
  },
  {
   "cell_type": "code",
   "execution_count": 112,
   "metadata": {},
   "outputs": [
    {
     "name": "stderr",
     "output_type": "stream",
     "text": [
      "/opt/tljh/user/lib/python3.7/site-packages/seaborn/distributions.py:2557: FutureWarning: `distplot` is a deprecated function and will be removed in a future version. Please adapt your code to use either `displot` (a figure-level function with similar flexibility) or `histplot` (an axes-level function for histograms).\n",
      "  warnings.warn(msg, FutureWarning)\n"
     ]
    },
    {
     "data": {
      "text/plain": [
       "<matplotlib.axes._subplots.AxesSubplot at 0x7f69866707b8>"
      ]
     },
     "execution_count": 112,
     "metadata": {},
     "output_type": "execute_result"
    },
    {
     "data": {
      "image/png": "[encoded data removed]",
      "text/plain": [
       "<Figure size 432x288 with 1 Axes>"
      ]
     },
     "metadata": {},
     "output_type": "display_data"
    }
   ],
   "source": [
    "sns.distplot(b_group_without_null.revenue)"
   ]
  },
  {
   "cell_type": "markdown",
   "metadata": {},
   "source": [
    "Исключение 'нулевых' значений дало нам не особо более читабельные графики, на которых все так же видно ненормальное распределение и несбалансированность данных между группами, очень большая разница в цифрах в revenue, если точнее, то в ~10 раз."
   ]
  },
  {
   "cell_type": "markdown",
   "metadata": {},
   "source": [
    "## Вывод"
   ]
  },
  {
   "cell_type": "markdown",
   "metadata": {},
   "source": [
    "Принимая во внимание проведенный тест бутстрап, очистку данных(удаление 'нулевых значений') и анализ графиков, считаю абсолютно обоснованным отклонить H0 гипотезу и заключить, что b_group(тестовая группа) значимо отличается от a_group(контрольная группа) и приносит большую прибыль компании, а значит наборы акционных предложений b_group работают корректно и стоит распространить их(наборы акционных предложений b_group) на всех пользователей для увеличения прибыли компании.\n",
    "\n",
    "\n",
    "P.S. в идеале отобрать новые выборки согласно методологии и еще раз провести наш анализ:\n",
    "1. Выборка должна быть репрезентативной (отражать разнообразие ГС)\n",
    "2. Размер выборки должен быть достаточным для обнаружения различий\n",
    "3. Выборка должна быть случайной\n",
    "4. Постараться исключить из выборки выбросы\n",
    "5. Учесть специфические факторы, влияющие на выборки."
   ]
  },
  {
   "cell_type": "markdown",
   "metadata": {},
   "source": [
    "#### Задание №3"
   ]
  },
  {
   "cell_type": "markdown",
   "metadata": {},
   "source": [
    "1. В игре Plants & Gardens каждый месяц проводятся тематические события, ограниченные по времени. \n",
    "В них игроки могут получить уникальные предметы для сада и персонажей, дополнительные монеты или бонусы. Для получения награды требуется пройти ряд уровней за определенное время. \n",
    "  С помощью каких метрик можно оценить результаты последнего прошедшего события?\n",
    "\n",
    "\n",
    "\n",
    "2. Предположим, в другом событии мы усложнили механику событий так, что при каждой неудачной попытке выполнения уровня игрок будет откатываться на несколько уровней назад. Изменится ли набор метрик оценки результата? Если да, то как?"
   ]
  },
  {
   "cell_type": "markdown",
   "metadata": {},
   "source": [
    "### Выводы"
   ]
  },
  {
   "cell_type": "markdown",
   "metadata": {},
   "source": [
    "1.Так как тематические события проводятся ограниченное кол-во времени в месяц, то они должны вызывать повышенный интерес у игроков, т.к. это даёт возможность получить дополнительные и уникальные предметы/бонусы/монеты для персонажа или сада, что в свою очередь улучшит их игровые показатели, даст  преимущество перед другими игроками(по меньшей мере моральное удовольствие), которые не участвуют в тематических событиях и не получают уникальные предметы/бонусы/монеты, а значит их сад и персонажи развиваются чуть медленнее. Также устанавливается условие по времени прохождения уровней, что усложняет задачу игрокам, а значит надо принимать участие в тематическом событии как можно раньше после его старта. Принимая во внимание вышеизложенное, считаю желательным набором для оценки результатов следующие метрики:\n",
    "\n",
    "\n",
    "ОХВАТ(общее кол-во игроков) - оценить до начала тематического события и вовремя его проведения, путем подсчета уникальных ID игроков участвующих в событии, это позволит оценить заинтересованность и качество самого события;\n",
    "\n",
    "ДЛИТЕЛЬНОСТЬ СЕАНСА - измерить продолжительность игровой сессии игроков в обычное время (без событий) и во время их проведения, также можно подсчитать кол-во входов в игру. Если события увлекательны и интересны игрокам, то время, проведенное в игре и кол-во входов будет больше.\n",
    "\n",
    "RETENTION RATE(коэффициент удержания) - измерить процент пользователей, которые возвращаются в игру после их первого входа. Если процент удержания падает, то подумать над введением дополнительных наград игрокам в случае участия в каждом событии или выполнения минимального задания.\n",
    "\n",
    "CHURN RATE(коэффициент оттока) - отследить изменения процента игроков, которые перестали пользоваться игрой. Вряд ли данные события могут отрицательно повлиять на эту метрику, но в случае однотипности событий или снижения мотивации игроков, эта метрика покажет отток, и в этом случае необходимо пересмотреть формат событий.\n",
    "\n",
    "ПРОГРЕСС ПРОХОЖДЕНИЯ - важно измерить средний процент прохождения каждого уровня игроками (например, всего 5 уровней, где 1 уровень это - легко, а 5 - очень сложно, условно 1 уровень проходит 90% игроков, 2 уровень 75% игроков, ... 5 уровень 20% игроков), это позволит отслеживать корректность сложности составления уровней и на сколько интересно\\сложно они составлены для игроков, а также кол-во игроков прошедших каждый из этапов из месяца в месяц.\n",
    "\n",
    "КОЛ-ВО ОБРАЩЕНИЙ В ПОДДЕРЖКУ / ОТЗЫВЫ - позволит оценить качество проработки событий и работы поддержки. Можно высчитать среднее кол-во обращений по каждому событию (позитивное / негативное), например за три месяца проведения событий и использовать как ориентир. В случае превышения среднего значения по негативным отзывам/обращениям скорректировать последующие события с учетом полученных замечаний.\n",
    "\n",
    "РЕГИСТРАЦИЯ НОВЫХ ПОЛЬЗОВАТЕЛЕЙ - сравнить с обычным периодом (без событий) среднее кол-во новых игроков и во время начала события. Позволит выяснить увеличивают ли события приток новых игроков.\n",
    "\n",
    "МОНЕТИЗАЦИЯ - в случае наличия в игре возможности приобретать доп. бонусы/преимущества, надо сравнить средний чек в период без событий и вовремя. Это позволит узнать тратят ли игроки больше денег на игровой процесс во время событий. Также можем рассчитать такие метрики как ARPU(средний доход на одного пользователя), ARPPU(средний доход на одного платящего пользователя).\n"
   ]
  },
  {
   "cell_type": "markdown",
   "metadata": {},
   "source": [
    "2.В данном случае более важнными метриками могут стать:\n",
    "\n",
    "CHURN RATE - важно следить за оттоком игроков, так как усложнение игрового процесса в качестве отката, может снизить заинтересованность игроков.\n",
    "\n",
    "RETENTION RATE(коэффициент удержания) - также будет являться важной метрикой, так как создавая откат в уровнях, игроки могут начать терять интерес и перестанут участвовать в событиях.\n",
    "\n",
    "ПРОГРЕСС ПРОХОЖДЕНИЯ - данная метрика однозначно будет отличаться от версии без откатов, так как психологически некоторые игроки будут \"нервничать\" во время откатов (особенно на последних уровнях) и переставть участвовать в событиях. Надо внимательно следить за этой метрикой и в случае сильного снижения прохождения определенных уровней корректировать их сложность или повышать ценность наград за их прохождение, что бы сохранить интерес и мотивацию игроков.\n",
    "\n",
    "Также будет полезно отслеживать отзывы/обращения в поддержку, будет представление о реакции игроков и может указать на технические сложности в прохождении или процессе откатов.\n"
   ]
  }
 ],
 "metadata": {
  "kernelspec": {
   "display_name": "Python 3",
   "language": "python",
   "name": "python3"
  },
  "language_info": {
   "codemirror_mode": {
    "name": "ipython",
    "version": 3
   },
   "file_extension": ".py",
   "mimetype": "text/x-python",
   "name": "python",
   "nbconvert_exporter": "python",
   "pygments_lexer": "ipython3",
   "version": "3.7.3"
  }
 },
 "nbformat": 4,
 "nbformat_minor": 4
}
